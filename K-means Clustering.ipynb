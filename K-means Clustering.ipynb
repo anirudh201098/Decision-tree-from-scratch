{
 "cells": [
  {
   "cell_type": "code",
   "execution_count": 1,
   "metadata": {},
   "outputs": [],
   "source": [
    "import numpy as np\n",
    "import pandas as pd\n",
    "import random"
   ]
  },
  {
   "cell_type": "code",
   "execution_count": 2,
   "metadata": {},
   "outputs": [],
   "source": [
    "#data=[['A',1,1],['B',2,1],['C',4,3],['D',5,4]]"
   ]
  },
  {
   "cell_type": "code",
   "execution_count": 24,
   "metadata": {},
   "outputs": [],
   "source": [
    "X=[[8,7],[3,7],[4,9],[9,6],[8,5],[5,8],[7,3],[8,4],[7,5],[4,5]]\n",
    "data1=pd.DataFrame(X,columns=['X','Y'])\n",
    "values=data1.values"
   ]
  },
  {
   "cell_type": "code",
   "execution_count": 4,
   "metadata": {},
   "outputs": [],
   "source": [
    "data1=pd.DataFrame(data,columns=['Medcine','Weight','pH Index'])"
   ]
  },
  {
   "cell_type": "code",
   "execution_count": 25,
   "metadata": {},
   "outputs": [
    {
     "data": {
      "text/html": [
       "<div>\n",
       "<style scoped>\n",
       "    .dataframe tbody tr th:only-of-type {\n",
       "        vertical-align: middle;\n",
       "    }\n",
       "\n",
       "    .dataframe tbody tr th {\n",
       "        vertical-align: top;\n",
       "    }\n",
       "\n",
       "    .dataframe thead th {\n",
       "        text-align: right;\n",
       "    }\n",
       "</style>\n",
       "<table border=\"1\" class=\"dataframe\">\n",
       "  <thead>\n",
       "    <tr style=\"text-align: right;\">\n",
       "      <th></th>\n",
       "      <th>X</th>\n",
       "      <th>Y</th>\n",
       "    </tr>\n",
       "  </thead>\n",
       "  <tbody>\n",
       "    <tr>\n",
       "      <th>0</th>\n",
       "      <td>8</td>\n",
       "      <td>7</td>\n",
       "    </tr>\n",
       "    <tr>\n",
       "      <th>1</th>\n",
       "      <td>3</td>\n",
       "      <td>7</td>\n",
       "    </tr>\n",
       "    <tr>\n",
       "      <th>2</th>\n",
       "      <td>4</td>\n",
       "      <td>9</td>\n",
       "    </tr>\n",
       "    <tr>\n",
       "      <th>3</th>\n",
       "      <td>9</td>\n",
       "      <td>6</td>\n",
       "    </tr>\n",
       "    <tr>\n",
       "      <th>4</th>\n",
       "      <td>8</td>\n",
       "      <td>5</td>\n",
       "    </tr>\n",
       "    <tr>\n",
       "      <th>5</th>\n",
       "      <td>5</td>\n",
       "      <td>8</td>\n",
       "    </tr>\n",
       "    <tr>\n",
       "      <th>6</th>\n",
       "      <td>7</td>\n",
       "      <td>3</td>\n",
       "    </tr>\n",
       "    <tr>\n",
       "      <th>7</th>\n",
       "      <td>8</td>\n",
       "      <td>4</td>\n",
       "    </tr>\n",
       "    <tr>\n",
       "      <th>8</th>\n",
       "      <td>7</td>\n",
       "      <td>5</td>\n",
       "    </tr>\n",
       "    <tr>\n",
       "      <th>9</th>\n",
       "      <td>4</td>\n",
       "      <td>5</td>\n",
       "    </tr>\n",
       "  </tbody>\n",
       "</table>\n",
       "</div>"
      ],
      "text/plain": [
       "   X  Y\n",
       "0  8  7\n",
       "1  3  7\n",
       "2  4  9\n",
       "3  9  6\n",
       "4  8  5\n",
       "5  5  8\n",
       "6  7  3\n",
       "7  8  4\n",
       "8  7  5\n",
       "9  4  5"
      ]
     },
     "execution_count": 25,
     "metadata": {},
     "output_type": "execute_result"
    }
   ],
   "source": [
    "data1"
   ]
  },
  {
   "cell_type": "code",
   "execution_count": 6,
   "metadata": {},
   "outputs": [],
   "source": [
    "from scipy.spatial import distance"
   ]
  },
  {
   "cell_type": "code",
   "execution_count": 7,
   "metadata": {},
   "outputs": [],
   "source": [
    "values=data1.values[:,1:]"
   ]
  },
  {
   "cell_type": "code",
   "execution_count": 26,
   "metadata": {},
   "outputs": [
    {
     "data": {
      "text/plain": [
       "array([[8, 7],\n",
       "       [3, 7],\n",
       "       [4, 9],\n",
       "       [9, 6],\n",
       "       [8, 5],\n",
       "       [5, 8],\n",
       "       [7, 3],\n",
       "       [8, 4],\n",
       "       [7, 5],\n",
       "       [4, 5]], dtype=int64)"
      ]
     },
     "execution_count": 26,
     "metadata": {},
     "output_type": "execute_result"
    }
   ],
   "source": [
    "values"
   ]
  },
  {
   "cell_type": "code",
   "execution_count": 9,
   "metadata": {},
   "outputs": [],
   "source": [
    "def dist(c):                    #Distance between the centroid and other values\n",
    "    d1=[]\n",
    "    for i  in values:\n",
    "        d1.append(np.round(distance.euclidean(c,i),2))\n",
    "    return d1"
   ]
  },
  {
   "cell_type": "code",
   "execution_count": 10,
   "metadata": {},
   "outputs": [],
   "source": [
    "def clusters(c,d):                # Creating clusters\n",
    "    c=c.tolist()\n",
    "    temp=[]\n",
    "    index=[]\n",
    "    for i in range(len(d)):\n",
    "        if d[i]!=0:\n",
    "            temp.append(d[i])\n",
    "            index.append(i)\n",
    "    new=values[index[temp.index(min(temp))]].tolist()\n",
    "    newcluster=[c,new]\n",
    "    return np.round(np.mean(newcluster,axis=0),2)\n"
   ]
  },
  {
   "cell_type": "code",
   "execution_count": 11,
   "metadata": {},
   "outputs": [],
   "source": [
    "def check(c,c1):                   #Check if previous cluster is same as current cluster, if yes then return the new cluster\n",
    "    if abs(sum(np.subtract(c,c1)))<0.025:\n",
    "        return True\n",
    "    else:\n",
    "        return False"
   ]
  },
  {
   "cell_type": "code",
   "execution_count": 12,
   "metadata": {},
   "outputs": [],
   "source": [
    "def allpoints(c):             # Iteratively creating cluster and returning the cluster if the both the clusters are same\n",
    "    d1=dist(c)\n",
    "    c1=c\n",
    "    c=clusters(c1,d1)\n",
    "    if check(c,c1)==True:\n",
    "        return c\n",
    "    else:\n",
    "        return allpoints(c)"
   ]
  },
  {
   "cell_type": "code",
   "execution_count": 20,
   "metadata": {},
   "outputs": [],
   "source": [
    "def minc(val,c):                         #Assigning each sample to corresponding cluster with low distance\n",
    "    v=[]\n",
    "    for m in range(len(c)):\n",
    "        v.append([np.round(distance.euclidean(c[m],val),2),m])\n",
    "    return min(v)[1]"
   ]
  },
  {
   "cell_type": "code",
   "execution_count": 36,
   "metadata": {},
   "outputs": [],
   "source": [
    "def pred(data,k):                                     #Predictions\n",
    "    ctemp=[]\n",
    "    c=list(random.sample(list(values),k))\n",
    "    for i in range(len(c)):\n",
    "        ctemp.append(allpoints(c[i]))\n",
    "    dis=[]\n",
    "    print(\"Clusters:\",ctemp)\n",
    "    for i in values:\n",
    "        print(i.tolist(),\"belongs to cluster:\",minc(i,ctemp))\n",
    "\n",
    "        \n",
    "        "
   ]
  },
  {
   "cell_type": "code",
   "execution_count": 40,
   "metadata": {},
   "outputs": [
    {
     "name": "stdout",
     "output_type": "stream",
     "text": [
      "Enter the number of clusters2\n",
      "Clusters: [array([8.5, 6.5]), array([8.  , 4.98])]\n",
      "[8, 7] belongs to cluster: 0\n",
      "[3, 7] belongs to cluster: 1\n",
      "[4, 9] belongs to cluster: 0\n",
      "[9, 6] belongs to cluster: 0\n",
      "[8, 5] belongs to cluster: 1\n",
      "[5, 8] belongs to cluster: 0\n",
      "[7, 3] belongs to cluster: 1\n",
      "[8, 4] belongs to cluster: 1\n",
      "[7, 5] belongs to cluster: 1\n",
      "[4, 5] belongs to cluster: 1\n"
     ]
    }
   ],
   "source": [
    "k=int(input(\"Enter the number of clusters=\"))\n",
    "pred(data1,k)"
   ]
  },
  {
   "cell_type": "code",
   "execution_count": null,
   "metadata": {},
   "outputs": [],
   "source": []
  }
 ],
 "metadata": {
  "kernelspec": {
   "display_name": "Python 3.7 (tensorflow)",
   "language": "python",
   "name": "tensorflow"
  },
  "language_info": {
   "codemirror_mode": {
    "name": "ipython",
    "version": 3
   },
   "file_extension": ".py",
   "mimetype": "text/x-python",
   "name": "python",
   "nbconvert_exporter": "python",
   "pygments_lexer": "ipython3",
   "version": "3.7.7"
  }
 },
 "nbformat": 4,
 "nbformat_minor": 4
}
