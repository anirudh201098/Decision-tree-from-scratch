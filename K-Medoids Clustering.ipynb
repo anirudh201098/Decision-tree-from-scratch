{
 "cells": [
  {
   "cell_type": "code",
   "execution_count": 1,
   "metadata": {},
   "outputs": [],
   "source": [
    "import pandas as pd\n",
    "import numpy as np\n",
    "import random"
   ]
  },
  {
   "cell_type": "code",
   "execution_count": null,
   "metadata": {},
   "outputs": [],
   "source": [
    "#X=[[8,7],[3,7],[4,9],[9,6],[8,5],[5,8],[7,3],[8,4],[7,5],[4,5]]"
   ]
  },
  {
   "cell_type": "code",
   "execution_count": null,
   "metadata": {},
   "outputs": [],
   "source": [
    "#data=pd.DataFrame(X,columns=['X','Y'])"
   ]
  },
  {
   "cell_type": "code",
   "execution_count": null,
   "metadata": {},
   "outputs": [],
   "source": [
    "#values=data.values"
   ]
  },
  {
   "cell_type": "code",
   "execution_count": 2,
   "metadata": {},
   "outputs": [],
   "source": [
    "data=[['A',1,1],['B',2,1],['C',4,3],['D',5,4]]\n",
    "data1=pd.DataFrame(data,columns=['Medcine','Weight','pH Index'])\n",
    "values=data1.values[:,1:]"
   ]
  },
  {
   "cell_type": "code",
   "execution_count": 3,
   "metadata": {},
   "outputs": [],
   "source": [
    "from itertools import combinations   #Taking all the combinations of samples\n",
    "def allmedoids(k):\n",
    "    allcombi=list(combinations(values.tolist(),k))\n",
    "    return allcombi"
   ]
  },
  {
   "cell_type": "code",
   "execution_count": 4,
   "metadata": {},
   "outputs": [],
   "source": [
    "def cost(m):                            #Taking all the cost\n",
    "    temp=[]\n",
    "    for i in m:\n",
    "        temp.append(np.sum(abs(values-i),axis=1).tolist())\n",
    "    s=sum(np.min(temp,axis=0))\n",
    "    return s"
   ]
  },
  {
   "cell_type": "code",
   "execution_count": 5,
   "metadata": {},
   "outputs": [],
   "source": [
    "def mediods(data,k):                              # mediods with least cost\n",
    "    allcomb=allmedoids(k)\n",
    "    pm=random.sample(allcomb,1)[0]\n",
    "    ct=[]\n",
    "    indx=[]\n",
    "    for i in range(len(allcomb)):\n",
    "        nm=random.sample(allcomb,1)[0]\n",
    "        if nm==pm:\n",
    "            continue\n",
    "        else:\n",
    "            if cost(nm)-cost(pm)<0:\n",
    "                pm,nm=nm,pm\n",
    "                ct.append(cost(nm))\n",
    "                indx.append(pm)\n",
    "    if len(indx)<=0:\n",
    "        return mediods(data,k)\n",
    "    else:\n",
    "        return indx[ct.index(min(ct))]"
   ]
  },
  {
   "cell_type": "code",
   "execution_count": 6,
   "metadata": {},
   "outputs": [],
   "source": [
    "def minc(val,c):                        #Assigning each sample to corresponding mediod with low cost\n",
    "    v=[]\n",
    "    for m in range(len(c)):\n",
    "        v.append([abs(sum(np.subtract(c[m],val))),m])\n",
    "    return min(v)[1]"
   ]
  },
  {
   "cell_type": "code",
   "execution_count": 21,
   "metadata": {},
   "outputs": [
    {
     "name": "stdout",
     "output_type": "stream",
     "text": [
      "Enter the number of mediods=2\n",
      "Cluster ([1, 1], [5, 4])\n",
      "[1 1] belongs to cluster: 0\n",
      "[2 1] belongs to cluster: 0\n",
      "[4 3] belongs to cluster: 1\n",
      "[5 4] belongs to cluster: 1\n"
     ]
    }
   ],
   "source": [
    "k=int(input(\"Enter the number of mediods=\"))\n",
    "c=mediods(values,k)\n",
    "print(\"Cluster\",c)\n",
    "for i in values:\n",
    "    print(i,\"belongs to cluster:\",minc(i,c))"
   ]
  },
  {
   "cell_type": "code",
   "execution_count": null,
   "metadata": {},
   "outputs": [],
   "source": []
  },
  {
   "cell_type": "code",
   "execution_count": null,
   "metadata": {},
   "outputs": [],
   "source": []
  }
 ],
 "metadata": {
  "kernelspec": {
   "display_name": "Python 3.7 (tensorflow)",
   "language": "python",
   "name": "tensorflow"
  },
  "language_info": {
   "codemirror_mode": {
    "name": "ipython",
    "version": 3
   },
   "file_extension": ".py",
   "mimetype": "text/x-python",
   "name": "python",
   "nbconvert_exporter": "python",
   "pygments_lexer": "ipython3",
   "version": "3.7.7"
  }
 },
 "nbformat": 4,
 "nbformat_minor": 4
}
